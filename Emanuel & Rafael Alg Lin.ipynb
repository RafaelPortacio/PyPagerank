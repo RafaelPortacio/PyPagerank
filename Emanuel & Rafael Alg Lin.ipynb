{
 "cells": [
  {
   "cell_type": "markdown",
   "metadata": {},
   "source": [
    "# Relatório Trabalho Final Álgebra Linear\n",
    "\n",
    "### Alunos: Rafael Portácio & Emanuel Bissiatti\n",
    "\n",
    "### Professor: Yuri Fahham Saporito\n"
   ]
  },
  {
   "cell_type": "markdown",
   "metadata": {},
   "source": [
    "# Grafos\n",
    "Os grafos(graphs), podem ser definidos como objetos matemáticos onde temos um conjunto de pontos (que nomeamos de nós(nodes)) e um conjunto composto por pares de nós (que nomeamos de arestas) que simbolizam a conexão entre esses dois nós. Em alguns casos, as arestas possuem pesos que determinam um grau de importância daquela conexão em relação às outras."
   ]
  },
  {
   "cell_type": "markdown",
   "metadata": {},
   "source": [
    "# Processos Markovianos\n",
    "São processos em que temos um conjunto de elementos que estão distribuídos entre alguns estados e há probabilidades fixas dos objetos transitarem entre dois dados estados ao haver uma transição (isso pode ser interpretado por um grafo, onde os nós representam os estados e as arestas representam as probabilidades de transição , no peso da aresta). Uma importante propriedade dos processos markovianos é que após ocorrer um número considerável de transições, o sistema irá para um equilíbrio estático único (o que é uma consequência do Teorema de Perron-Frobenius).\n"
   ]
  },
  {
   "cell_type": "markdown",
   "metadata": {},
   "source": [
    "Com o objetivo de tornar a definição mais palpável veja abaixo uma representação gráfica de um processo markoviano de apenas dois estados onde elementos no estado A tem probabilidade 0,3 de mudarem para o estado B e os elementos de B tem probabilidade 0.2 de irem para A"
   ]
  },
  {
   "cell_type": "markdown",
   "metadata": {},
   "source": [
    "![Exemplo Markov](MarkovExample.png)"
   ]
  },
  {
   "cell_type": "markdown",
   "metadata": {},
   "source": [
    "Seja $P_{AB}$ = probabilidade de sair de um estado $A$ para um estado $B$.\n",
    "\n",
    "Note que as transições de um processo markoviano podem ser descritas por uma matriz de transições, onde podemos organizar as probabilidades de transição de forma que caso enumeremos os estados, tenhamos que o elemento $a_{ij}$ é a probabilidade da transição do estado relacionado à coluna $j$ para o estado relacionado à linha $i$.\n",
    "Dessa forma,\n",
    "+ seja $∝_i$ = qtde.  presente no estado $∝$ após $i$ transições,\n",
    "+ seja $e1,e2,e3,…,ek$ a lista enumerada dos possíveis estados,\n",
    "+ e seja $s_i=\\begin{bmatrix}e1_i\\\\\\vdots\\\\ek_i\\end{bmatrix}$ ,\n",
    "\n",
    "Seja $M$ a matriz de transições da forma descrita acima,\n",
    "Note que $M× s_i= s_{i+1}$. Pois:\n"
   ]
  },
  {
   "cell_type": "markdown",
   "metadata": {},
   "source": [
    "\\begin{equation} \\begin{bmatrix} \n",
    "  P_{e1e1} & \\cdots & P_{eke1} \\\\ \n",
    "  \\vdots & \\ddots & \\vdots \\\\ \n",
    "  P_{e1ek} & \\cdots & P_{ekek} \\\\\n",
    "  \\end{bmatrix} × \\begin{bmatrix}e1_i\\\\\\vdots\\\\ek_i\\end{bmatrix} = \\begin{bmatrix} \\sum_{n=e1}^{ek} P_{ne1}*n_i \\\\\\vdots\\\\\\sum_{n=e1}^{ek} P_{nek}*n_i\\end{bmatrix} \\end{equation}"
   ]
  },
  {
   "cell_type": "markdown",
   "metadata": {},
   "source": [
    "+ Note que: $ \\sum_{n=e1}^{ek} P_{nex}*n_i = ex_{i+1}$, pois teremos a soma das frações de cada estado que irão para o estado $e$ após a transição (incluindo a fração de $e$ que continuará em $e$)."
   ]
  },
  {
   "cell_type": "markdown",
   "metadata": {},
   "source": [
    "Assim:\n",
    "\n",
    "\\begin{equation} \\begin{bmatrix} \n",
    "  P_{e1e1} & \\cdots & P_{eke1} \\\\ \n",
    "  \\vdots & \\ddots & \\vdots \\\\ \n",
    "  P_{e1ek} & \\cdots & P_{ekek} \\\\\n",
    "  \\end{bmatrix} × \\begin{bmatrix}e1_i\\\\\\vdots\\\\ek_i\\end{bmatrix} = \\begin{bmatrix} e1_{i+1} \\\\\\vdots\\\\ek_{i+1}\\end{bmatrix} \\end{equation}"
   ]
  },
  {
   "cell_type": "markdown",
   "metadata": {},
   "source": [
    "E assim podemos concluir que o estado após n transições será:\n",
    "    \n",
    "$s_n = M^n × s_0$ (Desacoplamento)\n",
    "+ OBS: $s_0$  é um vetor com os estados iniciais"
   ]
  },
  {
   "cell_type": "markdown",
   "metadata": {},
   "source": [
    "# Matriz de Markov\n",
    "As matrizes de Markov são matrizes quadradas em que todos os elementos são reais não-negativos tais que a soma de cada coluna é igual a $1$ (pois é a soma das probabilidades de destino dos elementos de um dado estado). Perceba que a matriz de transições de qualquer processo markoviano será uma matriz de Markov.\n",
    "\n",
    "(OBS: Note que seja $M$ uma matriz de Markov, caso ela seja multiplicada um vetor $v$ tal que $v≥0$ e a soma dos elementos de $v$ é igual a $1$. Então $Mv≥0$ e a soma dos elementos de $Mv$ é igual a $1$. Logo como todas as colunas de M cumprem as mesmas propriedades de $v$,   $M^n$   ($n ϵ N$) é uma matriz markoviana)\n",
    "\n",
    "Perceba que $λ=1$ é um autovalor de toda matriz de Markov pois se removermos $1$ de cada elemento da diagonal teremos que cada coluna tem soma igual a $0$, logo se somarmos todas as outras linhas à primeira linha teríamos uma fileira de zeros, logo o determinante é igual a $0$. \n",
    "\n",
    "Note também que nenhum outro autovalor pode ter módulo maior do que $1$. Provemos por absurdo, suponhamos que existe um autovalor tal que $|λ'|>1$ associado a um autovetor $x$ cujo as entradas têm soma diferente de zero. Note que: $\\lim_{n \\to \\infty}  \\begin{bmatrix} \n",
    "  1 & 1 & \\cdots & 1 & 1\n",
    "  \\end{bmatrix} \\times M^n \\times x = \\begin{bmatrix} \n",
    "  1 & 1 & \\cdots & 1 & 1\n",
    "  \\end{bmatrix}\\times x$, porém isso é um absurdo uma vez que $λ'>1$ implica que $M^n\\times x$ seria um vetor tal que a soma de suas entradas teria módulo tendendo ao infinito.\n",
    " \n",
    "Logo, teremos que ao multiplicar um vetor repetidas vezes pela matriz de Markov geralmente haverá um estado de equilíbrio que ocorrerá pois todos os autovetores associados a um autovalor de módulo menor que 1 tenderão a ser irrelevantes, havendo exceção quando temos um autovalor igual a -1 (onde há uma alternância entre estados que não se aproximam de um equilíbrio estático) "
   ]
  },
  {
   "cell_type": "markdown",
   "metadata": {},
   "source": [
    "# PageRank\n",
    "O PageRank é um tipo de processo markoviano que é aplicado a grafos, ele é uma forma de classificar a centralidade dos nós de um grafo (importância). Nesse método, os nós funcionam como os estados de um processo markoviano e os pesos das arestas são as probabilidades de transição. Um nó que tem muitos caminhos em direção a ele que por sua vez se originam de nós que também possuem essa propriedade, terá um alto valor no PageRank. \n",
    "+ (OBS: A soma de todos os valores do vetor do pagerank é igual a 1)\n",
    "\n",
    "Porém, o PageRank não é apenas um processo markoviano, existe uma probabilidade α de o estado seguir conforme descrito no parágrafo anterior, caso contrário ocorre um sorteio uniforme entre cada um dos nós. Por exemplo, caso tivéssemos um grafo desconexo, sem essa probabilidade, o equilíbrio iria depender da distribuição inicial de cada um dos subgrafos conexos. (Usualmente, o parâmetro é definido como 0.85)\n"
   ]
  },
  {
   "cell_type": "markdown",
   "metadata": {},
   "source": [
    "# Algoritmo do PageRank usando NumPy"
   ]
  },
  {
   "cell_type": "code",
   "execution_count": 1,
   "metadata": {},
   "outputs": [],
   "source": [
    "import networkx as nx\n",
    "import pandas as pd\n",
    "from PIL import Image\n",
    "import matplotlib.pyplot as plt \n",
    "from pyvis.network import Network\n",
    "import numpy"
   ]
  },
  {
   "cell_type": "code",
   "execution_count": 2,
   "metadata": {},
   "outputs": [],
   "source": [
    "def MyPageRank(adjacency_matrix,alpha):\n",
    "    A = adjacency_matrix\n",
    "    A = numpy.matrix(A)\n",
    "    A = A.transpose()\n",
    "    n = A.shape[0]\n",
    "    v = numpy.ones(n)\n",
    "    P = v*1/n\n",
    "    s1 = numpy.matmul(v, A)\n",
    "    s2 = []\n",
    "    s1 = numpy.squeeze(numpy.asarray(s1))\n",
    "    s1 = s1.tolist()\n",
    "    for x in s1:\n",
    "        if x != 0:\n",
    "            x = 1/x\n",
    "            s2.append(x)\n",
    "        else:\n",
    "            s2.append(x)\n",
    "    s1 = numpy.array(s2)\n",
    "    D1 = numpy.diagflat(s1)\n",
    "    A = numpy.matmul(A,D1)\n",
    "    v = numpy.matrix(v)\n",
    "    v_t = v.transpose()    \n",
    "    B = numpy.matmul(A, v_t)\n",
    "    C = v_t\n",
    "    while not numpy.allclose(B,C):\n",
    "        C = B\n",
    "        B = numpy.matmul(A,B)\n",
    "    sumB = numpy.matmul(v, B)\n",
    "    sumB = numpy.squeeze(numpy.asarray(sumB))\n",
    "    sumB = sumB.tolist()\n",
    "    PageRankA = []\n",
    "    B = numpy.squeeze(numpy.asarray(B))\n",
    "    B = B.tolist()\n",
    "    for x in B:\n",
    "        if x != 0:\n",
    "            x = x/sumB\n",
    "            PageRankA.append(x)\n",
    "        else:\n",
    "            PageRankA.append(x)\n",
    "    PageRankA = numpy.array(PageRankA)\n",
    "    PageRankA = numpy.multiply(alpha,PageRankA)\n",
    "    P = numpy.multiply((1-alpha),P)\n",
    "    PageRankA = numpy.add(PageRankA,P)\n",
    "    return PageRankA.tolist()"
   ]
  },
  {
   "cell_type": "markdown",
   "metadata": {},
   "source": [
    "# Exemplos"
   ]
  },
  {
   "cell_type": "markdown",
   "metadata": {},
   "source": [
    "![Exemplo de Grafo](graphExample.jpeg)"
   ]
  },
  {
   "cell_type": "code",
   "execution_count": 3,
   "metadata": {},
   "outputs": [],
   "source": [
    "#Criando a matriz de adjancência\n",
    "slide = numpy.array([[0,1,0,0,0,0,0],\n",
    "                     [0,0,1,1,0,0,0],\n",
    "                     [1,0,0,0,0,0,0],\n",
    "                     [1,0,1,0,0,0,0],\n",
    "                     [0,0,0,0,0,1,1],\n",
    "                     [0,1,0,0,0,0,0],\n",
    "                     [0,0,0,1,0,1,0]])\n",
    "\n",
    "slide_g = nx.from_numpy_matrix(slide, create_using=nx.DiGraph)"
   ]
  },
  {
   "cell_type": "code",
   "execution_count": 4,
   "metadata": {},
   "outputs": [
    {
     "name": "stdout",
     "output_type": "stream",
     "text": [
      "[0.30769143906363183, 0.30769428470559124, 0.23076842703032638, 0.1538458492004506, 0.0, 0.0, 0.0]\n"
     ]
    }
   ],
   "source": [
    "#PageRank do meu algorítimo \n",
    "print(MyPageRank(slide,1))"
   ]
  },
  {
   "cell_type": "code",
   "execution_count": 5,
   "metadata": {},
   "outputs": [
    {
     "name": "stdout",
     "output_type": "stream",
     "text": [
      "{0: 0.30769143906363167, 1: 0.30769428470559107, 2: 0.2307684270303263, 3: 0.15384584920045052, 4: 0.0, 5: 0.0, 6: 0.0}\n"
     ]
    }
   ],
   "source": [
    "#PageRank do networkx algorítimo\n",
    "print(nx.pagerank(slide_g,alpha=1,max_iter=1000))"
   ]
  },
  {
   "cell_type": "code",
   "execution_count": 6,
   "metadata": {},
   "outputs": [
    {
     "name": "stdout",
     "output_type": "stream",
     "text": [
      "{0: 0.2264646745469453, 1: 0.2560560030872647, 2: 0.1859313615869448, 3: 0.15272653220741664, 4: 0.042857142857142864, 5: 0.07810714285714286, 6: 0.057857142857142864}\n",
      "\n",
      "\n",
      "[0.25824115020168514, 0.2582431421510567, 0.20439504177837134, 0.15054923729745828, 0.042857142857142864, 0.042857142857142864, 0.042857142857142864]\n"
     ]
    }
   ],
   "source": [
    "#Alterando o alpha\n",
    "print(nx.pagerank(slide_g,alpha=0.7))\n",
    "print('\\n')\n",
    "print(MyPageRank(slide,0.7))"
   ]
  },
  {
   "cell_type": "markdown",
   "metadata": {},
   "source": [
    "# Aplicando em dados reais"
   ]
  },
  {
   "cell_type": "code",
   "execution_count": 7,
   "metadata": {},
   "outputs": [
    {
     "data": {
      "text/html": [
       "<div>\n",
       "<style scoped>\n",
       "    .dataframe tbody tr th:only-of-type {\n",
       "        vertical-align: middle;\n",
       "    }\n",
       "\n",
       "    .dataframe tbody tr th {\n",
       "        vertical-align: top;\n",
       "    }\n",
       "\n",
       "    .dataframe thead th {\n",
       "        text-align: right;\n",
       "    }\n",
       "</style>\n",
       "<table border=\"1\" class=\"dataframe\">\n",
       "  <thead>\n",
       "    <tr style=\"text-align: right;\">\n",
       "      <th></th>\n",
       "      <th>station1</th>\n",
       "      <th>station2</th>\n",
       "      <th>line</th>\n",
       "      <th>time</th>\n",
       "    </tr>\n",
       "  </thead>\n",
       "  <tbody>\n",
       "    <tr>\n",
       "      <th>0</th>\n",
       "      <td>11</td>\n",
       "      <td>163</td>\n",
       "      <td>1</td>\n",
       "      <td>1</td>\n",
       "    </tr>\n",
       "    <tr>\n",
       "      <th>1</th>\n",
       "      <td>11</td>\n",
       "      <td>212</td>\n",
       "      <td>1</td>\n",
       "      <td>2</td>\n",
       "    </tr>\n",
       "    <tr>\n",
       "      <th>2</th>\n",
       "      <td>49</td>\n",
       "      <td>87</td>\n",
       "      <td>1</td>\n",
       "      <td>1</td>\n",
       "    </tr>\n",
       "    <tr>\n",
       "      <th>3</th>\n",
       "      <td>49</td>\n",
       "      <td>197</td>\n",
       "      <td>1</td>\n",
       "      <td>2</td>\n",
       "    </tr>\n",
       "    <tr>\n",
       "      <th>4</th>\n",
       "      <td>82</td>\n",
       "      <td>163</td>\n",
       "      <td>1</td>\n",
       "      <td>2</td>\n",
       "    </tr>\n",
       "  </tbody>\n",
       "</table>\n",
       "</div>"
      ],
      "text/plain": [
       "   station1  station2  line  time\n",
       "0        11       163     1     1\n",
       "1        11       212     1     2\n",
       "2        49        87     1     1\n",
       "3        49       197     1     2\n",
       "4        82       163     1     2"
      ]
     },
     "execution_count": 7,
     "metadata": {},
     "output_type": "execute_result"
    }
   ],
   "source": [
    "#Observando os dados\n",
    "londonEdges = pd.read_csv(\"london.connections.csv\")\n",
    "londonEdges.head()"
   ]
  },
  {
   "cell_type": "code",
   "execution_count": 8,
   "metadata": {},
   "outputs": [],
   "source": [
    "#Criando a matriz de adjancencia e o grafo \n",
    "node1 = londonEdges[\"station1\"]\n",
    "node2 = londonEdges[\"station2\"]\n",
    "time = londonEdges[\"time\"]\n",
    "n = max((numpy.max(node1)),(numpy.max(node2)))\n",
    "\n",
    "x = 0\n",
    "londonAdjMatrix = numpy.zeros((n,n))\n",
    "while x < len(node1):\n",
    "    londonAdjMatrix[node1[x]-1][node2[x]-1] = 1\n",
    "    x = x+1\n",
    "\n",
    "londonAdjMatrix = londonAdjMatrix + (numpy.transpose(londonAdjMatrix))\n",
    "L = nx.from_numpy_matrix(londonAdjMatrix, create_using=nx.DiGraph)\n"
   ]
  },
  {
   "cell_type": "code",
   "execution_count": 9,
   "metadata": {},
   "outputs": [
    {
     "name": "stdout",
     "output_type": "stream",
     "text": [
      "{0: 0.0071483122769139444, 1: 0.0028558559383811567, 2: 0.0042837314029629805, 3: 0.0028555188547958457, 4: 0.0028618943934201435, 5: 0.001429575983942792, 6: 0.002856058531736156, 7: 0.0028552391847062246, 8: 0.0028553468894742234, 9: 0.0028558865182234435, 10: 0.010000504938641947, 11: 0.0028556506593916025, 12: 0.008567890770732093, 13: 0.002856051244819895, 14: 0.0028555807445570453, 15: 0.002856459230217317, 16: 0.004287076856032763, 17: 0.0028576978688377233, 18: 0.0014275875718181136, 19: 0.002855332164626281, 20: 0.0028555696249776877, 21: 0.0028556277852261292, 22: 0.0028557903743680257, 23: 0.002855752549231639, 24: 0.002856125758421233, 25: 0.002855727262841142, 26: 0.002855508803643074, 27: 0.005714105401149667, 28: 0.002855994750442356, 29: 0.0028591748805587313, 30: 0.002855552182953217, 31: 0.0028555040528439324, 32: 0.0028556406142839887, 33: 0.002855237088502176, 34: 0.0014280344110995968, 35: 0.002855599340104799, 36: 0.0028551485090300838, 37: 0.0028552285262531873, 38: 0.0028560358143052177, 39: 0.005711758249887746, 40: 0.005711343010777257, 41: 0.005711034374480257, 42: 0.005710948355861479, 43: 0.002855992861423586, 44: 0.0028600959826523015, 45: 0.0043072777756427766, 46: 0.0028556773204228936, 47: 0.0028561915326387292, 48: 0.004284648986354125, 49: 0.001429575983942792, 50: 0.0028565222497169565, 51: 0.0028588428422818358, 52: 0.0028591253236163383, 53: 0.0028558482916350124, 54: 0.00285592838956367, 55: 0.002855676090991347, 56: 0.0014277086321589458, 57: 0.0028551216468030056, 58: 0.002855368744980928, 59: 0.002856389585273216, 60: 0.0028552372073612203, 61: 0.002870313260486838, 62: 0.0028553450971629153, 63: 0.00285494398556372, 64: 0.002855194251236126, 65: 0.00285556552591866, 66: 0.0028556464630338134, 67: 0.0028551208219392355, 68: 0.00285485683133243, 69: 0.0028556354154372103, 70: 0.002858294610863004, 71: 0.002859493806153396, 72: 0.005717563077782995, 73: 0.008573428496760118, 74: 0.0028588270370888706, 75: 0.002858295418587662, 76: 0.002854934271508888, 77: 0.0028555659753235424, 78: 0.0028555576001302696, 79: 0.00285777190300247, 80: 0.0014275413391394616, 81: 0.002857530905424487, 82: 0.0028576202926993187, 83: 0.0042840738423602365, 84: 0.0028556784862661805, 85: 0.0028549251935249577, 86: 0.005712583752696393, 87: 0.001427555858065646, 88: 0.005712138874529059, 89: 0.002856507554675821, 90: 0.002855155823513048, 91: 0.002856058531736156, 92: 0.004282612325796541, 93: 0.005717144417884302, 94: 0.0057118685085969624, 95: 0.00285779506466053, 96: 0.002855298513999011, 97: 0.002856363519670767, 98: 0.004286305863256512, 99: 0.002855431534491845, 100: 0.002858334516414253, 101: 0.002856414294552947, 102: 0.0028551463643685343, 103: 0.002857122991174704, 104: 0.0028584779873719046, 105: 0.002854978395046071, 106: 0.008570013615972882, 107: 0.002858877818251491, 108: 0.0028565135769972327, 109: 0.005716971366911131, 110: 0.002855424664882823, 111: 0.002858453509187494, 112: 0.002857539875831136, 113: 0.00142874996216068, 114: 0.004296558151146706, 115: 0.004289479902498677, 116: 0.0028596302687044313, 117: 0.0028596302687044313, 118: 0.002855296953063936, 119: 0.0028554358053731388, 120: 0.0014274665104185968, 121: 0.00428654730390185, 122: 0.0028559725770511252, 123: 0.0028552828115033, 124: 0.0028589079020019184, 125: 0.005712635790160149, 126: 0.0028580316419891485, 127: 0.0028560490704246204, 128: 0.00285556466088204, 129: 0.002859637631134724, 130: 0.0028593727370351605, 131: 0.0028595360271247913, 132: 0.0028568323346133406, 133: 0.0028654944308870787, 134: 0.0028550833498359584, 135: 0.004284138069723289, 136: 0.0028575681679600578, 137: 0.0014289032721939423, 138: 0.0028556148586726246, 139: 0.0028597016317177793, 140: 0.0028587592138538294, 141: 0.0028584507817022123, 142: 0.002857601017137165, 143: 0.002859999061174216, 144: 0.009996718689171954, 145: 0.002856967206568308, 146: 0.0028580263402390345, 147: 0.0028560954613707657, 148: 0.0028573781276602654, 149: 0.0028581645843391984, 150: 0.005712907775523899, 151: 0.0014274137385447984, 152: 0.002855965141766755, 153: 0.004282966286343372, 154: 0.0028556984079120937, 155: 0.007139753425921593, 156: 0.005711883497038089, 157: 0.002856591774887684, 158: 0.002858255077328971, 159: 0.0028557027766357383, 160: 0.0028560332622852365, 161: 0.0028571349432178804, 162: 0.00285765370065204, 163: 0.005711519635202996, 164: 0.0014274005090965849, 165: 0.0028559064833589484, 166: 0.005711901423325433, 167: 0.004288582255126777, 168: 0.001427664429545022, 169: 0.002855964103139116, 170: 0.0028550862513581875, 171: 0.00285960190316387, 172: 0.0028551856644793167, 173: 0.0014278216073988041, 174: 0.0014278216073988041, 175: 0.0028594749191947367, 176: 0.002859367122380284, 177: 0.002858479017803185, 178: 0.0028691783637933704, 179: 0.0028589172196538367, 180: 0.004288717227689056, 181: 0.0028604224127716594, 182: 0.002855550424015612, 183: 0.002858748938590922, 184: 0.0028595925102631414, 185: 0.005715416049454247, 186: 0.002855272581171858, 187: 0.002856051244819895, 188: 0.0, 189: 0.0028595787622889926, 190: 0.0028560729579092115, 191: 0.008569984458748767, 192: 0.007144455204856884, 193: 0.0028588158250670323, 194: 0.0028577837605513533, 195: 0.0028592775612361013, 196: 0.005713154659081593, 197: 0.0028564349745239725, 198: 0.0028669526382740715, 199: 0.00285553650863411, 200: 0.005711157380826393, 201: 0.0028614422159734822, 202: 0.0028553989494317475, 203: 0.0028557196061403307, 204: 0.0028577819634531473, 205: 0.0028586935197885324, 206: 0.0028581396787902484, 207: 0.0028575387098469735, 208: 0.002858525225131892, 209: 0.0042965086737505, 210: 0.0028552368631548477, 211: 0.002857155451846254, 212: 0.0014294467429601862, 213: 0.0028707202956124154, 214: 0.0028551568655930983, 215: 0.002855678873571412, 216: 0.0028552512371795274, 217: 0.0028577789875867702, 218: 0.0028554978429729374, 219: 0.0028588808775130052, 220: 0.0028594122215088646, 221: 0.0028650543727106177, 222: 0.0028562179645207483, 223: 0.0028557822127970043, 224: 0.007139423175386308, 225: 0.002858005015761821, 226: 0.002858263648214686, 227: 0.001427875464581824, 228: 0.002856866397578546, 229: 0.002856275760912663, 230: 0.0028577729459496664, 231: 0.002855451356652325, 232: 0.002856038489259383, 233: 0.0028589456176121514, 234: 0.0028588082367738054, 235: 0.004285698608680758, 236: 0.0028575045635966636, 237: 0.0028552792697137683, 238: 0.0028584918996529115, 239: 0.0028554437858019296, 240: 0.0028552111691028228, 241: 0.002858740684636733, 242: 0.0014290745371983399, 243: 0.0028556981039679374, 244: 0.005712195744114428, 245: 0.002859379956775046, 246: 0.005711042740545089, 247: 0.00285650307566393, 248: 0.002857920564180708, 249: 0.0028560688854098303, 250: 0.002863217857488457, 251: 0.0028588248687919293, 252: 0.004283435260503177, 253: 0.0028576337206569617, 254: 0.00285619505624462, 255: 0.0028566474723788196, 256: 0.00285548642796318, 257: 0.0028555137866543463, 258: 0.005712977051368544, 259: 0.0028558596946509454, 260: 0.0028546406170666576, 261: 0.0014278963334334593, 262: 0.004283841519028929, 263: 0.0028555532550506796, 264: 0.0071468323403948136, 265: 0.0028557154573524476, 266: 0.0014277823220331513, 267: 0.0028556960786943744, 268: 0.0028556061010595706, 269: 0.0028556037987440257, 270: 0.0014328214778236838, 271: 0.0028562485221116972, 272: 0.0057132475869970546, 273: 0.0014279172467030212, 274: 0.0028562342956454235, 275: 0.002855746175180038, 276: 0.00428464213285574, 277: 0.002857635866766773, 278: 0.008568411331223713, 279: 0.0014295358732240556, 280: 0.0028575181803403293, 281: 0.0057162232650194945, 282: 0.002857979746506611, 283: 0.004283376804545424, 284: 0.005712808711348437, 285: 0.0028585562958957445, 286: 0.002857798673937385, 287: 0.0028547323902559443, 288: 0.005711288938947363, 289: 0.002858184315793713, 290: 0.0028587254872103566, 291: 0.0042833422208780735, 292: 0.002857944379568794, 293: 0.0014292482023698766, 294: 0.005711612523527651, 295: 0.0028586012179253693, 296: 0.002858919449535143, 297: 0.002859075027607609, 298: 0.0014288848716047147, 299: 0.0028577653833021465, 300: 0.004284727081387793, 301: 0.002854968707648788, 302: 0.0028554923466396253}\n"
     ]
    }
   ],
   "source": [
    "#PageRank com o networX\n",
    "london_nx_pg = nx.pagerank(L,alpha=1,max_iter=1000)\n",
    "print(london_nx_pg)"
   ]
  },
  {
   "cell_type": "code",
   "execution_count": 10,
   "metadata": {},
   "outputs": [
    {
     "name": "stdout",
     "output_type": "stream",
     "text": [
      "[0.0071430306735843175, 0.0028571094854054216, 0.00428566027120506, 0.0028570839627756195, 0.0028572192661088782, 0.0014286370336544648, 0.0028571281477075446, 0.002857132746747979, 0.002857129807391892, 0.002857132388424193, 0.010000065742107399, 0.002857129080056536, 0.008571345691732802, 0.002857122671126819, 0.002857055556606175, 0.002857038342653892, 0.004285782749165612, 0.0028571749717072074, 0.0014285331008445706, 0.0028570679569009934, 0.002857047729586039, 0.002857133950422531, 0.002857106110341553, 0.0028570991091024607, 0.0028571233304626547, 0.0028571315707200096, 0.0028570837931605236, 0.00571430490870897, 0.0028571185138063604, 0.0028572284358119285, 0.0028571298242882457, 0.00285708001285524, 0.0028570845550764915, 0.00285713276671592, 0.0014285657364431267, 0.0028570805853620003, 0.0028570361992607493, 0.002857132131931495, 0.0028571331439901414, 0.0057142701974786814, 0.00571419513709231, 0.005714176957691147, 0.005714159017083583, 0.0028571161488875085, 0.0028571846559828805, 0.004285868260742821, 0.0028571345353050467, 0.0028571279975246567, 0.0042857055082870235, 0.0014286370336544648, 0.0028570356453626765, 0.002857210214638703, 0.0028572715447265865, 0.00285713014749447, 0.0028571307787985216, 0.0028571295475065136, 0.0014285645536153686, 0.0028571323065044985, 0.0028571280923606513, 0.002857136563383432, 0.0028570784892196204, 0.0028572404859349295, 0.002857073784430764, 0.0028570718675969228, 0.002857067056749656, 0.0028570420137889576, 0.002857045046147327, 0.0028570325781995, 0.0028570693849333108, 0.002857081696038974, 0.0028571828741401012, 0.002857211472913152, 0.005714430218183527, 0.00857154501114031, 0.002857237579016704, 0.0028572030797699806, 0.0028571315105265834, 0.002857060512263451, 0.0028570813882474603, 0.0028571885874054733, 0.0014285660757325824, 0.002857169397972983, 0.0028571670684066405, 0.004285683506067568, 0.0028570404800074105, 0.002857068674607818, 0.005714261932429953, 0.0014285156813230045, 0.005714272446772468, 0.0028571429715158617, 0.0028570378423841197, 0.0028571281477075446, 0.004285696416170833, 0.005714343722214734, 0.005714263789613017, 0.0028571851499289416, 0.0028570662436903822, 0.0028570431841193856, 0.00428575972885797, 0.0028571330558144945, 0.002857195464668751, 0.002857140133847679, 0.0028570365212472245, 0.0028571518032160653, 0.0028572158171339727, 0.002857070341316944, 0.008571434284323541, 0.002857207514693246, 0.002857035811467395, 0.005714396041127269, 0.0028571335175482273, 0.0028572115657995475, 0.002857190404141502, 0.001428597734102398, 0.004285821843434551, 0.0042858650229848595, 0.002857243997412385, 0.002857243997412385, 0.002857132443183033, 0.0028570847880679743, 0.0014285650997938654, 0.004285765878002028, 0.002857132830527874, 0.0028571320277964505, 0.002857245072041609, 0.005714269067688996, 0.002857183298336181, 0.002857132540701034, 0.002857038533751598, 0.002857238649703023, 0.00285723604512115, 0.0028572415451804207, 0.002857149901019116, 0.0028572290847999897, 0.0028570736374408053, 0.0042856876747342735, 0.0028571865767557355, 0.0014285908878450848, 0.002857134275493074, 0.0028571953116778787, 0.002857208398820452, 0.0028571777671834967, 0.0028571817965091246, 0.0028571837308630672, 0.00999996707773242, 0.0028571550976605286, 0.0028571852113247653, 0.0028571235574022563, 0.0028571649480152363, 0.0028571890353265668, 0.005714277341255665, 0.001428534275587325, 0.0028570656714918675, 0.004285582834656597, 0.0028570968450719212, 0.007142773749783037, 0.005714229663984409, 0.002857032940151441, 0.0028571792209458706, 0.002857131496366887, 0.0028571196935541056, 0.0028571588730699057, 0.002857165171139068, 0.005714177656569885, 0.0014285654855708554, 0.002857112812299422, 0.0057142350131148085, 0.004285897330597991, 0.0014285639534075251, 0.0028571356123395534, 0.0028570759437401626, 0.0028571818993385406, 0.0028570414584836086, 0.0014285483937896354, 0.0014285483937896354, 0.002857222930837941, 0.0028572151423177294, 0.0028572144848187176, 0.0028572356229335, 0.0028572519845202673, 0.004285810648790965, 0.002857215558123017, 0.0028570837500070043, 0.002857236323057288, 0.002857194186121061, 0.005714353915831635, 0.0028571294599540457, 0.002857122671126819, 0.0, 0.0028572317914887725, 0.0028571282681694524, 0.008571436399773813, 0.007142933121589635, 0.002857223027324129, 0.002857186538136076, 0.0028572118893227952, 0.005714282821946206, 0.00285713986769284, 0.002857225999272253, 0.0028570710781081732, 0.005714172794132933, 0.0028571937720266553, 0.002857071345334302, 0.002857078365344858, 0.0028571876908027273, 0.0028571843978843275, 0.0028571886906987106, 0.0028571709007392055, 0.0028572014720941656, 0.004285832336069555, 0.002857047293194747, 0.00285715315595109, 0.0014286041251288443, 0.002857242171475698, 0.0028570375228643996, 0.0028570993655888336, 0.002857069603062738, 0.0028571773133843183, 0.0028570763338437387, 0.002857242552540017, 0.002857216786841307, 0.0028572262365207032, 0.0028571340455497613, 0.002857131859142484, 0.007142759071891361, 0.0028571905561022666, 0.0028571921668617117, 0.0014285507857996385, 0.002857152156709752, 0.002857048439257672, 0.0028571892377536687, 0.0028571292877750914, 0.0028571197948952065, 0.002857218886109141, 0.002857233039063576, 0.004285740204707203, 0.0028571948974961897, 0.0028570815223511307, 0.0028572184074352816, 0.002857127983783206, 0.002857043801062558, 0.0028572040785673014, 0.0014285946220734878, 0.002857095172112736, 0.0057142630534906275, 0.0028571919579876417, 0.0057141549315720365, 0.002857139538068401, 0.0028571647053710876, 0.0028571215604453323, 0.0028572212778063787, 0.002857229064526297, 0.0042856454219301005, 0.0028571697750788233, 0.0028571271093758804, 0.0028570304594567244, 0.0028571286441042448, 0.0028571283524424437, 0.005714279243808274, 0.002857131450778175, 0.0028571303234414033, 0.001428551743557795, 0.0042856643714695485, 0.0028571334276970626, 0.007143017296412697, 0.0028571307015691797, 0.0014285186826295776, 0.002857038172054925, 0.0028570517719700753, 0.002857065324183029, 0.001428615020533928, 0.0028571356490651977, 0.005714288090068105, 0.0014285656506921993, 0.002857050230925718, 0.0028571013496757254, 0.0042857107390635715, 0.0028571761649034294, 0.008571374692481223, 0.0014286332322123257, 0.0028571931974642915, 0.005714374088127508, 0.002857181572937955, 0.004285635566650024, 0.00571426999277205, 0.0028572113290244562, 0.0028571835200294294, 0.0028571306939868036, 0.005714153638238642, 0.0028571756719121184, 0.0028572311713497196, 0.004285632383239907, 0.002857185156562826, 0.0014286096387490712, 0.005714203278457545, 0.002857195787301224, 0.0028571791962254934, 0.002857188672818905, 0.0014285948785826424, 0.0028571896232935387, 0.0042855567717975706, 0.0028571303872386286, 0.002857130492565542]\n"
     ]
    }
   ],
   "source": [
    "#Calculando o PageRank do meu algorítimo\n",
    "londonPG = MyPageRank(londonAdjMatrix,1)\n",
    "print(londonPG)"
   ]
  },
  {
   "cell_type": "code",
   "execution_count": 11,
   "metadata": {},
   "outputs": [
    {
     "name": "stdout",
     "output_type": "stream",
     "text": [
      "11\n",
      "0.010000504938641947\n"
     ]
    }
   ],
   "source": [
    "#Resultado do PageRank\n",
    "i = 0\n",
    "m = 0\n",
    "while i < 303:\n",
    "    if london_nx_pg[i] > m:\n",
    "        m = london_nx_pg[i]\n",
    "        j = i\n",
    "    i += 1\n",
    "j += 1\n",
    "print(j)\n",
    "print(m)"
   ]
  },
  {
   "cell_type": "code",
   "execution_count": 12,
   "metadata": {},
   "outputs": [
    {
     "name": "stdout",
     "output_type": "stream",
     "text": [
      "0.010000065742107399\n",
      "11\n"
     ]
    }
   ],
   "source": [
    "#Analisando o resultado\n",
    "big = numpy.max(londonPG)\n",
    "statID = londonPG.index(big)+1\n",
    "print(big)\n",
    "print(statID)"
   ]
  },
  {
   "cell_type": "code",
   "execution_count": 13,
   "metadata": {},
   "outputs": [
    {
     "data": {
      "text/html": [
       "<div>\n",
       "<style scoped>\n",
       "    .dataframe tbody tr th:only-of-type {\n",
       "        vertical-align: middle;\n",
       "    }\n",
       "\n",
       "    .dataframe tbody tr th {\n",
       "        vertical-align: top;\n",
       "    }\n",
       "\n",
       "    .dataframe thead th {\n",
       "        text-align: right;\n",
       "    }\n",
       "</style>\n",
       "<table border=\"1\" class=\"dataframe\">\n",
       "  <thead>\n",
       "    <tr style=\"text-align: right;\">\n",
       "      <th></th>\n",
       "      <th>id</th>\n",
       "      <th>latitude</th>\n",
       "      <th>longitude</th>\n",
       "      <th>name</th>\n",
       "      <th>display_name</th>\n",
       "      <th>zone</th>\n",
       "      <th>total_lines</th>\n",
       "      <th>rail</th>\n",
       "    </tr>\n",
       "  </thead>\n",
       "  <tbody>\n",
       "    <tr>\n",
       "      <th>0</th>\n",
       "      <td>1</td>\n",
       "      <td>51.5028</td>\n",
       "      <td>-0.2801</td>\n",
       "      <td>Acton Town</td>\n",
       "      <td>Acton&lt;br /&gt;Town</td>\n",
       "      <td>3.0</td>\n",
       "      <td>2</td>\n",
       "      <td>0</td>\n",
       "    </tr>\n",
       "    <tr>\n",
       "      <th>1</th>\n",
       "      <td>2</td>\n",
       "      <td>51.5143</td>\n",
       "      <td>-0.0755</td>\n",
       "      <td>Aldgate</td>\n",
       "      <td>NaN</td>\n",
       "      <td>1.0</td>\n",
       "      <td>2</td>\n",
       "      <td>0</td>\n",
       "    </tr>\n",
       "    <tr>\n",
       "      <th>2</th>\n",
       "      <td>3</td>\n",
       "      <td>51.5154</td>\n",
       "      <td>-0.0726</td>\n",
       "      <td>Aldgate East</td>\n",
       "      <td>Aldgate&lt;br /&gt;East</td>\n",
       "      <td>1.0</td>\n",
       "      <td>2</td>\n",
       "      <td>0</td>\n",
       "    </tr>\n",
       "    <tr>\n",
       "      <th>3</th>\n",
       "      <td>4</td>\n",
       "      <td>51.5107</td>\n",
       "      <td>-0.0130</td>\n",
       "      <td>All Saints</td>\n",
       "      <td>All&lt;br /&gt;Saints</td>\n",
       "      <td>2.0</td>\n",
       "      <td>1</td>\n",
       "      <td>0</td>\n",
       "    </tr>\n",
       "    <tr>\n",
       "      <th>4</th>\n",
       "      <td>5</td>\n",
       "      <td>51.5407</td>\n",
       "      <td>-0.2997</td>\n",
       "      <td>Alperton</td>\n",
       "      <td>NaN</td>\n",
       "      <td>4.0</td>\n",
       "      <td>1</td>\n",
       "      <td>0</td>\n",
       "    </tr>\n",
       "  </tbody>\n",
       "</table>\n",
       "</div>"
      ],
      "text/plain": [
       "   id  latitude  longitude          name       display_name  zone  \\\n",
       "0   1   51.5028    -0.2801    Acton Town    Acton<br />Town   3.0   \n",
       "1   2   51.5143    -0.0755       Aldgate                NaN   1.0   \n",
       "2   3   51.5154    -0.0726  Aldgate East  Aldgate<br />East   1.0   \n",
       "3   4   51.5107    -0.0130    All Saints    All<br />Saints   2.0   \n",
       "4   5   51.5407    -0.2997      Alperton                NaN   4.0   \n",
       "\n",
       "   total_lines  rail  \n",
       "0            2     0  \n",
       "1            2     0  \n",
       "2            2     0  \n",
       "3            1     0  \n",
       "4            1     0  "
      ]
     },
     "execution_count": 13,
     "metadata": {},
     "output_type": "execute_result"
    }
   ],
   "source": [
    "#Base com o nome das estações\n",
    "df = pd.read_csv(\"london.stations.csv\")\n",
    "df.head()"
   ]
  },
  {
   "cell_type": "code",
   "execution_count": 14,
   "metadata": {},
   "outputs": [
    {
     "data": {
      "text/html": [
       "<div>\n",
       "<style scoped>\n",
       "    .dataframe tbody tr th:only-of-type {\n",
       "        vertical-align: middle;\n",
       "    }\n",
       "\n",
       "    .dataframe tbody tr th {\n",
       "        vertical-align: top;\n",
       "    }\n",
       "\n",
       "    .dataframe thead th {\n",
       "        text-align: right;\n",
       "    }\n",
       "</style>\n",
       "<table border=\"1\" class=\"dataframe\">\n",
       "  <thead>\n",
       "    <tr style=\"text-align: right;\">\n",
       "      <th></th>\n",
       "      <th>id</th>\n",
       "      <th>latitude</th>\n",
       "      <th>longitude</th>\n",
       "      <th>name</th>\n",
       "      <th>display_name</th>\n",
       "      <th>zone</th>\n",
       "      <th>total_lines</th>\n",
       "      <th>rail</th>\n",
       "    </tr>\n",
       "  </thead>\n",
       "  <tbody>\n",
       "    <tr>\n",
       "      <th>9</th>\n",
       "      <td>11</td>\n",
       "      <td>51.5226</td>\n",
       "      <td>-0.1571</td>\n",
       "      <td>Baker Street</td>\n",
       "      <td>Baker&lt;br /&gt;Street</td>\n",
       "      <td>1.0</td>\n",
       "      <td>5</td>\n",
       "      <td>0</td>\n",
       "    </tr>\n",
       "  </tbody>\n",
       "</table>\n",
       "</div>"
      ],
      "text/plain": [
       "   id  latitude  longitude          name       display_name  zone  \\\n",
       "9  11   51.5226    -0.1571  Baker Street  Baker<br />Street   1.0   \n",
       "\n",
       "   total_lines  rail  \n",
       "9            5     0  "
      ]
     },
     "execution_count": 14,
     "metadata": {},
     "output_type": "execute_result"
    }
   ],
   "source": [
    "#Buscando a estação com maior índice no PageRank\n",
    "df[df[\"id\"]==statID]"
   ]
  },
  {
   "cell_type": "code",
   "execution_count": 15,
   "metadata": {},
   "outputs": [],
   "source": [
    "#Plot com o tamanho dos nós relativo ao PageRank\n",
    "nt = Network(\"100%\", \"100%\",bgcolor=\"#FFF4BD\")\n",
    "for i in L.nodes:\n",
    "    nt.add_node(i+1, value = london_nx_pg[i]*3000)\n",
    "x = 0\n",
    "while x < len(node1):\n",
    "    nt.add_edge(int(node1[x]), int(node2[x]))\n",
    "    x = x+1\n",
    "nt.show(\"nx0.html\")"
   ]
  },
  {
   "cell_type": "code",
   "execution_count": 16,
   "metadata": {},
   "outputs": [],
   "source": [
    "#Buscando a estação com maior índice no PageRank com time como o peso invesrso\n",
    "node1 = londonEdges[\"station1\"]\n",
    "node2 = londonEdges[\"station2\"]\n",
    "time = londonEdges[\"time\"]\n",
    "n = max((numpy.max(node1)),(numpy.max(node2)))\n",
    "\n",
    "x = 0\n",
    "londonAdjMatrix = numpy.zeros((n,n))\n",
    "while x < len(node1):\n",
    "    londonAdjMatrix[node1[x]-1][node2[x]-1] = 1/time[x]\n",
    "    x = x+1\n",
    "\n",
    "londonAdjMatrix = londonAdjMatrix + (numpy.transpose(londonAdjMatrix))\n",
    "L = nx.from_numpy_matrix(londonAdjMatrix, create_using=nx.DiGraph)"
   ]
  },
  {
   "cell_type": "code",
   "execution_count": 17,
   "metadata": {},
   "outputs": [
    {
     "name": "stdout",
     "output_type": "stream",
     "text": [
      "{0: 0.005998664286852961, 1: 0.0021462305373716344, 2: 0.003576779284016152, 3: 0.002860303406621716, 4: 0.0024062356610136545, 5: 0.000730185693564915, 6: 0.0023855910047604336, 7: 0.002383075113850376, 8: 0.0019063833487519728, 9: 0.004292357751688173, 10: 0.008845881187042772, 11: 0.004289769109493887, 12: 0.007393286415258106, 13: 0.004293335848372706, 14: 0.002145457751678785, 15: 0.0028617224867195914, 16: 0.0038305760704112615, 17: 0.0028704839999146798, 18: 0.0014293843810351764, 19: 0.002858767984154533, 20: 0.0023839560312338666, 21: 0.0028608666060093695, 22: 0.002384318848050913, 23: 0.0023843853479485503, 24: 0.004293688887909336, 25: 0.0028606375291914503, 26: 0.002860081750396827, 27: 0.008599633326998129, 28: 0.004293235170372919, 29: 0.0024020085761796675, 30: 0.002383144116696194, 31: 0.0028606771841280312, 32: 0.004291287491535681, 33: 0.0023828593257445114, 34: 0.0014310341660991517, 35: 0.0028606720110930842, 36: 0.00190971863472972, 37: 0.0023822346620913865, 38: 0.002003457424770617, 39: 0.006677718441421837, 40: 0.0066748660253565534, 41: 0.004766595510091178, 42: 0.004766704885953997, 43: 0.004293103601067438, 44: 0.0028861424026899564, 45: 0.0018173821782919701, 46: 0.002861421717591112, 47: 0.004294872301732394, 48: 0.005727995892122604, 49: 0.0003650928467824575, 50: 0.0028618154877066955, 51: 0.002878702286176285, 52: 0.0014597921967738625, 53: 0.0028609819938592122, 54: 0.004292582778462725, 55: 0.002860475554709938, 56: 0.0007147939877097163, 57: 0.002382455867926965, 58: 0.0028593256289148744, 59: 0.005727756347471807, 60: 0.002858376946943605, 61: 0.001694870852710461, 62: 0.0028594788972982356, 63: 0.0028574419150569543, 64: 0.0028588482548618883, 65: 0.0016689017240052615, 66: 0.0016686861137328137, 67: 0.0023874797275793926, 68: 0.002857064395985472, 69: 0.0028602019067873892, 70: 0.0028830015778517296, 71: 0.0016792055277978794, 72: 0.0045616493536593415, 73: 0.009092099899389992, 74: 0.002903133522824563, 75: 0.002396971113220802, 76: 0.0021436495512653455, 77: 0.0021453824175781226, 78: 0.0028599133303739933, 79: 0.002871163758314311, 80: 0.0009529357603178936, 81: 0.002391420495517586, 82: 0.0016738885262640624, 83: 0.005247526531978873, 84: 0.0023839113891334033, 85: 0.002856846137864615, 86: 0.007158782718755571, 87: 0.001432564666834503, 88: 0.006680553983909019, 89: 0.0028647369117922985, 90: 0.002864393307335022, 91: 0.003577999568372861, 92: 0.0030947915583411146, 93: 0.005204752274500592, 94: 0.005007329073997771, 95: 0.004306778959804692, 96: 0.0028586031217954105, 97: 0.0023846198850266576, 98: 0.005021362066401013, 99: 0.0016681868655707382, 100: 0.004311592358470067, 101: 0.0042962297500906185, 102: 0.0023870835487269657, 103: 0.0023885982702455725, 104: 0.002878767634546116, 105: 0.00285710685685927, 106: 0.009551134773182235, 107: 0.001918319205855805, 108: 0.002384832409240227, 109: 0.005750467266320216, 110: 0.0021454251020994516, 111: 0.002398475219525221, 112: 0.0028708156200924345, 113: 0.0014354695176630973, 114: 0.003859067811273516, 115: 0.0026439224961277005, 116: 0.0015383589389102144, 117: 0.0015383589389102144, 118: 0.0023825348638868223, 119: 0.0028593536623884403, 120: 0.0009519999932821614, 121: 0.0026312301360244057, 122: 0.002146444837025639, 123: 0.0023820145670851176, 124: 0.002422177239730512, 125: 0.008590875491481334, 126: 0.004307493344394977, 127: 0.004292498591269773, 128: 0.002861099181685544, 129: 0.0028835512268493334, 130: 0.0028835312188893393, 131: 0.002163050855915723, 132: 0.0028661168980175676, 133: 0.002414993899495095, 134: 0.00285762155098413, 135: 0.0038164779386987537, 136: 0.0019138124927160734, 137: 0.0014355957347304917, 138: 0.0028611273998716035, 139: 0.0028674889464561566, 140: 0.0019183962018754913, 141: 0.0028793235437936755, 142: 0.0028706087715741, 143: 0.0021641915564073254, 144: 0.00773028717643233, 145: 0.002389106312430717, 146: 0.004309141422313428, 147: 0.003816868651365761, 148: 0.0038250310333338157, 149: 0.004309570685999503, 150: 0.008592537488163597, 151: 0.001428468761532033, 152: 0.002384063300817943, 153: 0.0038173899228784855, 154: 0.0028606232716022655, 155: 0.005961784253483265, 156: 0.005246979381145177, 157: 0.0023849879817407233, 158: 0.0043045869633016815, 159: 0.002384126794097368, 160: 0.005724529652996461, 161: 0.003822841978352979, 162: 0.00430354958662856, 163: 0.006436961225538132, 164: 0.0009523892658922736, 165: 0.002861828165457132, 166: 0.0066780688597254025, 167: 0.002430320538746768, 168: 0.0007147977776846508, 169: 0.0042934416431436515, 170: 0.002858060865999922, 171: 0.0021619527371028674, 172: 0.002386762751583011, 173: 0.0007151403586058347, 174: 0.0007151403586058347, 175: 0.004321975278251639, 176: 0.002398163422613585, 177: 0.0028976282066111737, 178: 0.002419336353304697, 179: 0.002911905877671781, 180: 0.003835689654103373, 181: 0.0024024635059821525, 182: 0.0019065865989517875, 183: 0.0019370176617856745, 184: 0.0028676441792107213, 185: 0.005262556011140453, 186: 0.0016679182364606172, 187: 0.003816197979034355, 188: 0.0, 189: 0.002402260342585139, 190: 0.00238519789455759, 191: 0.010029365344116258, 192: 0.007414618968404189, 193: 0.002406418804160779, 194: 0.0023926498991959718, 195: 0.0028774308811398315, 196: 0.007162127754383966, 197: 0.003818312206687325, 198: 0.0024167923751562638, 199: 0.0028605383860062063, 200: 0.005720180197482919, 201: 0.0024075056918423958, 202: 0.002859095782316836, 203: 0.0028604553420970495, 204: 0.0023926410227306685, 205: 0.0023909788358660805, 206: 0.002889396648968733, 207: 0.004304035382768735, 208: 0.0028761329890137754, 209: 0.0033771345354148266, 210: 0.002863590245725289, 211: 0.002867147482029028, 212: 0.0009591929065007225, 213: 0.0014531036422715349, 214: 0.002387015776500948, 215: 0.005721538357069286, 216: 0.0028590858517041837, 217: 0.004306409376839897, 218: 0.0028595826445234236, 219: 0.0024210489518207818, 220: 0.003837361984121742, 221: 0.002896643116252752, 222: 0.0028633414841632244, 223: 0.0016689064989512407, 224: 0.008583229852456305, 225: 0.003829975517863769, 226: 0.0043110798606112305, 227: 0.001430570256720937, 228: 0.0028666535231859063, 229: 0.0028614321101407434, 230: 0.002392632404500018, 231: 0.001906214264182015, 232: 0.004293766292003336, 233: 0.0036019095734028594, 234: 0.002415820999066032, 235: 0.005258306471735813, 236: 0.0028709260422786816, 237: 0.002858906172007997, 238: 0.0038389875495001414, 239: 0.0021443210408184036, 240: 0.002863889039442534, 241: 0.0043154485926185145, 242: 0.0014448764478352792, 243: 0.0023842090535633733, 244: 0.0062011029338172, 245: 0.0023900184254396087, 246: 0.00453017629542289, 247: 0.0028645186788638062, 248: 0.003591455237444293, 249: 0.002862563701906459, 250: 0.0024095362831759054, 251: 0.002411470689608235, 252: 0.0028606140958520893, 253: 0.004311904262518107, 254: 0.0028629769561852184, 255: 0.00238507991233965, 256: 0.004289652290436605, 257: 0.0028593713080048077, 258: 0.008592817698635472, 259: 0.0023839044479826914, 260: 0.0019043969185863583, 261: 0.0014305111230416552, 262: 0.003576959096912881, 263: 0.0028601813871086974, 264: 0.007673049056819753, 265: 0.002383609961806214, 266: 0.0009537107153737897, 267: 0.0023839354481868763, 268: 0.002860542736317382, 269: 0.0028604310630565427, 270: 0.0009661273783314653, 271: 0.003817759490610845, 272: 0.005252811554625487, 273: 0.0014302726626756776, 274: 0.0028613654652911913, 275: 0.005721738170921828, 276: 0.005727857449252563, 277: 0.004305800924631066, 278: 0.010258412016044919, 279: 0.0009724639983473809, 280: 0.0023924064644564556, 281: 0.0028190551319024573, 282: 0.0028716224897524147, 283: 0.004290426168962046, 284: 0.0052504982689707165, 285: 0.0023986935028992296, 286: 0.004306782739750489, 287: 0.004285275587140634, 288: 0.004767315912033074, 289: 0.004316281415395554, 290: 0.002417924731882459, 291: 0.004290133934981721, 292: 0.0043076623927424925, 293: 0.0009597722273706858, 294: 0.005245362569183643, 295: 0.0019159759337226284, 296: 0.0028802442839868814, 297: 0.0023903587010543383, 298: 0.0009570512426649103, 299: 0.0019141037552199533, 300: 0.0033386925086978073, 301: 0.003808280889315837, 302: 0.0028600777132396812}\n"
     ]
    }
   ],
   "source": [
    "#PageRank networkX\n",
    "london_nx_pg = nx.pagerank(L,alpha=1,max_iter=1000)\n",
    "print(london_nx_pg)"
   ]
  },
  {
   "cell_type": "code",
   "execution_count": 18,
   "metadata": {},
   "outputs": [
    {
     "name": "stdout",
     "output_type": "stream",
     "text": [
      "[0.005976059815114545, 0.0021508831040119377, 0.0035847758705515593, 0.0028676491321758084, 0.0023905237517199166, 0.0007172314915166797, 0.0023899670824219115, 0.0023899982237495917, 0.001911979814869144, 0.0043019760518896236, 0.008843501944358274, 0.004301958609338168, 0.00740867552547072, 0.004301880535026639, 0.0021506000660981256, 0.0028673104641308883, 0.0038244501442425806, 0.002868259268004571, 0.0014337656460930617, 0.002867543551181104, 0.0023895220518040427, 0.002868006657479255, 0.002389847091057405, 0.002389794243666379, 0.0043018854059649735, 0.002867977189851668, 0.002867651284844355, 0.008604315247852127, 0.0043018707884950914, 0.0023905061829595444, 0.0023899762365226, 0.0028676141554184256, 0.004301510077924866, 0.002389998464867645, 0.0014339929487032232, 0.002867637151250073, 0.0019115324962703608, 0.002389995757510845, 0.0020075914504845273, 0.006692028233009196, 0.0066914619836396395, 0.004779480254555097, 0.004779367635928534, 0.004301842963753642, 0.002868502676832097, 0.0017930608082679963, 0.0028680092151385467, 0.00430196126267482, 0.005736019964456277, 0.00035861574575833986, 0.002867296701864234, 0.002868484328816672, 0.001434456192177938, 0.002867979431063331, 0.004301975488043257, 0.0028679756547993207, 0.0007169918185773952, 0.0023899962194424483, 0.0028679683709601413, 0.0057360228518026435, 0.0028676222193873284, 0.0016735018534191535, 0.0028675821649868038, 0.0028675780912695028, 0.002867537027825252, 0.0016726358968232572, 0.0016726526653273795, 0.002389392511727344, 0.0028675616431255158, 0.002867629907426245, 0.0028684083779836013, 0.0016732919768378584, 0.00454182756913989, 0.00908291095751051, 0.002868747723130222, 0.0023903636237804144, 0.0021509912259980698, 0.0021506371413119304, 0.002867634423411753, 0.002868322162725769, 0.0009559982283715262, 0.002390175490828511, 0.0016731186229696825, 0.005257866233339208, 0.0023894670565701827, 0.0028675572879815416, 0.007169961749146215, 0.001433630266470572, 0.006692044064939295, 0.0028680431926089737, 0.0028673065260251527, 0.0035849188074546763, 0.0031069803951758374, 0.005190263460843747, 0.005018969515931744, 0.004302454385870296, 0.0028675320831606324, 0.0023894561006595565, 0.005019388647347265, 0.0016730003783522868, 0.0043025734224087266, 0.004302048130541708, 0.002389416429114082, 0.0023900758077776553, 0.002868529002102997, 0.0028675683139015792, 0.009560220282568676, 0.0019123080244844131, 0.0023894140534825815, 0.005736802543300792, 0.0021510033534373947, 0.002390415939634778, 0.0028683641116830404, 0.001434199759683402, 0.003824902990290941, 0.002629634051928683, 0.0015299705556609112, 0.0015299705556609112, 0.0023899973720715095, 0.002867663896483463, 0.0009559925258781883, 0.0026292388047234436, 0.002150990006766384, 0.0023899932159453857, 0.002390663759368471, 0.008603998994379483, 0.004302454055302018, 0.00430197747055784, 0.0028673503705763845, 0.0028686668495466966, 0.0028686539811746863, 0.0021515080515961712, 0.002868098600950205, 0.002390645291517546, 0.002867590119830578, 0.003823926150598429, 0.00191222330701828, 0.0014341441565698836, 0.002868006986918204, 0.002868396784228029, 0.0019123104783263275, 0.0028683514753223803, 0.0028683007755833973, 0.0021513689570714424, 0.007743587282886809, 0.002390109095347061, 0.00430249987710914, 0.0038239230123408106, 0.0038242611848046636, 0.00430252016574327, 0.008604070404147167, 0.0014337780596890078, 0.0023895979253927007, 0.003823225617840222, 0.002867745707669112, 0.005974676935641543, 0.005257795937897334, 0.0023893956364551723, 0.004302427037706143, 0.00238998297918402, 0.005735818154268045, 0.0038241706698627295, 0.004302268305600834, 0.006452309260441535, 0.0009559938799558212, 0.0028678692610314646, 0.006691748672580674, 0.002390728926742683, 0.0007169918818998324, 0.004302021313303231, 0.0028676050972339987, 0.0021513221185474897, 0.0023894398537376575, 0.0007169415518821355, 0.0007169415518821355, 0.004302875813582276, 0.0023904477741741735, 0.002868634911260232, 0.0023906860567133787, 0.002868821305718323, 0.003824626235511792, 0.0023904707122372896, 0.0019117686584056116, 0.0019124961092247428, 0.0028683896108287086, 0.0052584782376618585, 0.0016729811510351024, 0.0038238785013337577, 0.0, 0.0023905301471896187, 0.0023899674421622484, 0.010038254067253533, 0.00740966315875694, 0.0023904981693050917, 0.0023902580087307676, 0.002868513064813283, 0.007170118985957088, 0.0038240425606352025, 0.002390644629438347, 0.0028675715425856303, 0.005735339652987429, 0.0023904709252492674, 0.002867566236472919, 0.002867599300460619, 0.0023902649158089127, 0.0023902620340857566, 0.002868505715620388, 0.004302326771653042, 0.002868425275643667, 0.0033468308872001144, 0.0028673705095942172, 0.002868117725671826, 0.0009561555876920981, 0.0014344358261168106, 0.0023894229897713833, 0.005735552312443985, 0.0028675541096422905, 0.004302409620508003, 0.0028675996428775764, 0.002390647993296765, 0.0038247365793386986, 0.0028687490709111353, 0.0028679973290902283, 0.0016729881752210111, 0.008603382303261, 0.0038244312088451444, 0.004302556957603656, 0.0014338929591112429, 0.0028681230713479547, 0.002867379151756821, 0.00239027080806194, 0.001911978865360913, 0.004301891570063017, 0.003585714385345576, 0.0023905885090114917, 0.005258327857340203, 0.0028683958727230103, 0.002867642059064975, 0.0038247370341538546, 0.002150975867914925, 0.0028673503397999038, 0.004302670428732731, 0.0014342556294629398, 0.002389774751258959, 0.006213969927764896, 0.002390309871755977, 0.004540348927766334, 0.0028680348726435414, 0.00358530668408747, 0.00286792391434783, 0.0023905650545192627, 0.0023905496333326967, 0.00286776708406766, 0.004302399123124092, 0.002867953876853698, 0.0023893809018161595, 0.0043019567354854946, 0.0028679695038618344, 0.008604091380179158, 0.002389981548280987, 0.0019119852835215536, 0.0014338966547071345, 0.003584805193812208, 0.0028680022151172887, 0.007649216762056102, 0.0023899795410308898, 0.0009557813217038855, 0.0023894564633688237, 0.002867446320535807, 0.0028675415630435037, 0.0009562605419477099, 0.0038240271294430507, 0.005258122678379806, 0.0014339884180972293, 0.002867389412753531, 0.005735568617612872, 0.005736071015232204, 0.004302414352229596, 0.01027681282173961, 0.0009562955960424101, 0.0023903208360495096, 0.002800183812596213, 0.002868303841099021, 0.004301548771950889, 0.005258005406941484, 0.002390404326582062, 0.004302447761775213, 0.004301969371932154, 0.004779337697747553, 0.004302480916063698, 0.002390589463743569, 0.0043015270402480725, 0.00430245750213539, 0.0009561855341603437, 0.005257608716856524, 0.0019122530964569085, 0.002868378913446609, 0.0023902933735450715, 0.0009561093410745596, 0.0019122181584808448, 0.003345202872054277, 0.003823971768725758, 0.002867973303537527]\n"
     ]
    }
   ],
   "source": [
    "#Calculando o PageRank do meu algorítimo\n",
    "londonPG = MyPageRank(londonAdjMatrix,1)\n",
    "print(londonPG)"
   ]
  },
  {
   "cell_type": "code",
   "execution_count": 19,
   "metadata": {},
   "outputs": [
    {
     "name": "stdout",
     "output_type": "stream",
     "text": [
      "279\n",
      "0.010258412016044919\n"
     ]
    }
   ],
   "source": [
    "#Resultado do PageRank\n",
    "i = 0\n",
    "m = 0\n",
    "while i < 303:\n",
    "    if london_nx_pg[i] > m:\n",
    "        m = london_nx_pg[i]\n",
    "        j = i\n",
    "    i += 1\n",
    "j += 1\n",
    "print(j)\n",
    "print(m)"
   ]
  },
  {
   "cell_type": "code",
   "execution_count": 20,
   "metadata": {},
   "outputs": [
    {
     "name": "stdout",
     "output_type": "stream",
     "text": [
      "0.01027681282173961\n",
      "279\n"
     ]
    }
   ],
   "source": [
    "#Analizando o resultado\n",
    "big = numpy.max(londonPG)\n",
    "statID = londonPG.index(big)+1\n",
    "print(big)\n",
    "print(statID)"
   ]
  },
  {
   "cell_type": "code",
   "execution_count": 21,
   "metadata": {},
   "outputs": [
    {
     "data": {
      "text/html": [
       "<div>\n",
       "<style scoped>\n",
       "    .dataframe tbody tr th:only-of-type {\n",
       "        vertical-align: middle;\n",
       "    }\n",
       "\n",
       "    .dataframe tbody tr th {\n",
       "        vertical-align: top;\n",
       "    }\n",
       "\n",
       "    .dataframe thead th {\n",
       "        text-align: right;\n",
       "    }\n",
       "</style>\n",
       "<table border=\"1\" class=\"dataframe\">\n",
       "  <thead>\n",
       "    <tr style=\"text-align: right;\">\n",
       "      <th></th>\n",
       "      <th>id</th>\n",
       "      <th>latitude</th>\n",
       "      <th>longitude</th>\n",
       "      <th>name</th>\n",
       "      <th>display_name</th>\n",
       "      <th>zone</th>\n",
       "      <th>total_lines</th>\n",
       "      <th>rail</th>\n",
       "    </tr>\n",
       "  </thead>\n",
       "  <tbody>\n",
       "    <tr>\n",
       "      <th>246</th>\n",
       "      <td>279</td>\n",
       "      <td>51.5036</td>\n",
       "      <td>-0.1143</td>\n",
       "      <td>Waterloo</td>\n",
       "      <td>NaN</td>\n",
       "      <td>1.0</td>\n",
       "      <td>4</td>\n",
       "      <td>1</td>\n",
       "    </tr>\n",
       "  </tbody>\n",
       "</table>\n",
       "</div>"
      ],
      "text/plain": [
       "      id  latitude  longitude      name display_name  zone  total_lines  rail\n",
       "246  279   51.5036    -0.1143  Waterloo          NaN   1.0            4     1"
      ]
     },
     "execution_count": 21,
     "metadata": {},
     "output_type": "execute_result"
    }
   ],
   "source": [
    "#Buscando a estação com maior índice no PageRank\n",
    "df[df[\"id\"]==statID]"
   ]
  },
  {
   "cell_type": "code",
   "execution_count": 22,
   "metadata": {
    "scrolled": true
   },
   "outputs": [],
   "source": [
    "nt = Network(\"100%\", \"100%\",bgcolor=\"#FFF4BD\")\n",
    "for i in L.nodes:\n",
    "    nt.add_node(i+1, value = london_nx_pg[i]*3000)\n",
    "x = 0\n",
    "while x < len(node1):\n",
    "    nt.add_edge(int(node1[x]), int(node2[x]))\n",
    "    x = x+1\n",
    "nt.show(\"nx.html\")"
   ]
  }
 ],
 "metadata": {
  "kernelspec": {
   "display_name": "Python 3",
   "language": "python",
   "name": "python3"
  },
  "language_info": {
   "codemirror_mode": {
    "name": "ipython",
    "version": 3
   },
   "file_extension": ".py",
   "mimetype": "text/x-python",
   "name": "python",
   "nbconvert_exporter": "python",
   "pygments_lexer": "ipython3",
   "version": "3.8.3"
  }
 },
 "nbformat": 4,
 "nbformat_minor": 4
}
